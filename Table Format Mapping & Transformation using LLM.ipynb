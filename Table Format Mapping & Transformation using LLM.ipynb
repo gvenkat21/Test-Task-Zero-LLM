{
 "cells": [
  {
   "cell_type": "code",
   "execution_count": 1,
   "metadata": {},
   "outputs": [],
   "source": [
    "from langchain.llms import OpenAI\n",
    "\n",
    "llm = OpenAI(openai_api_key=\"<API_KEY>\",model_name=\"text-davinci-003\", temperature=0, max_tokens=2048)"
   ]
  },
  {
   "cell_type": "code",
   "execution_count": 2,
   "metadata": {},
   "outputs": [],
   "source": [
    "import pandas as pd\n",
    "seed_value = 42\n",
    "\n",
    "# Read CSV file as DataFrame\n",
    "template_orig = pd.read_csv('template.csv')\n",
    "template = template_orig.sample(n=3, random_state=seed_value)\n",
    "a_orig = pd.read_csv('table_A.csv')\n",
    "a = a_orig.sample(n=3, random_state=seed_value)\n",
    "b_orig = pd.read_csv('table_B.csv')\n",
    "b = b_orig.sample(n=3, random_state=seed_value)\n",
    "\n",
    "# Convert DataFrame to dictionary and formatting it to have every key in newline as it gives better accuracy in prompt\n",
    "# We only take a random sample of 3. We will use this for our mapping prompt as we dont need more than that to understand the content of the data\n",
    "template_orig_dict = template_orig.to_dict(orient='list')\n",
    "template_orig_dict = str(template_orig_dict).replace('],', '],\\n')\n",
    "a_orig_dict = a_orig.to_dict(orient='list')\n",
    "a_orig_dict = str(a_orig_dict).replace('],', '],\\n')\n",
    "b_orig_dict = b_orig.to_dict(orient='list')\n",
    "b_orig_dict = str(b_orig_dict).replace('],', '],\\n')\n",
    "\n",
    "\n",
    "template_dict = template.to_dict(orient='list')\n",
    "template_dict = str(template_dict).replace('],', '],\\n')\n",
    "a_dict = a.to_dict(orient='list')\n",
    "a_dict = str(a_dict).replace('],', '],\\n')\n",
    "b_dict = b.to_dict(orient='list')\n",
    "b_dict = str(b_dict).replace('],', '],\\n')"
   ]
  },
  {
   "cell_type": "code",
   "execution_count": 4,
   "metadata": {},
   "outputs": [
    {
     "name": "stdout",
     "output_type": "stream",
     "text": [
      "Template:\n",
      "{'Date': ['09-05-2023', '02-05-2023', '06-05-2023'],\n",
      " 'EmployeeName': ['Frank Jackson', 'Jane Smith', 'Carol Martinez'],\n",
      " 'Plan': ['Bronze', 'Silver', 'Bronze'],\n",
      " 'PolicyNumber': ['QR17171', 'CD67890', 'KL14141'],\n",
      " 'Premium': [50, 100, 50]}\n",
      "A:\n",
      "{'Date_of_Policy': ['05/09/2023', '05/02/2023', '05/06/2023'],\n",
      " 'FullName': ['Frank Jackson', 'Jane Smith', 'Carol Martinez'],\n",
      " 'Insurance_Plan': ['Bronze Plan', 'Silver Plan', 'Bronze Plan'],\n",
      " 'Policy_No': ['QR-17171', 'CD-67890', 'KL-14141'],\n",
      " 'Monthly_Premium': [50.0, 100.0, 50.0],\n",
      " 'Department': ['Engineering', 'HR', 'Operations'],\n",
      " 'JobTitle': ['Engineer', 'HR Manager', 'Operations Manager'],\n",
      " 'Policy_Start': ['05/09/2023', '05/02/2023', '05/06/2023'],\n",
      " 'Full_Name': ['Frank Jackson', 'Jane Smith', 'Carol Martinez'],\n",
      " 'Insurance_Type': ['Bronze', 'Silver', 'Bronze'],\n",
      " 'Policy_Num': ['QR-17171', 'CD-67890', 'KL-14141'],\n",
      " 'Monthly_Cost': [50.0, 100.0, 50.0]}\n",
      "B:\n",
      "{'PolicyDate': ['2023-05-09', '2023-05-02', '2023-05-06'],\n",
      " 'Name': ['Jackson', 'Smith', 'Martinez'],\n",
      " 'PlanType': [' Frank', ' Jane', ' Carol'],\n",
      " 'Policy_ID': ['BronzePackage', 'SilverPackage', 'BronzePackage'],\n",
      " 'PremiumAmount': ['QR17171', 'CD67890', 'KL14141'],\n",
      " 'Hobby': ['Writing', 'Reading', 'Swimming'],\n",
      " 'MaritalStatus': ['Divorced', 'Single', 'Divorced'],\n",
      " 'StartDate': ['2023-05-09', '2023-05-02', '2023-05-06'],\n",
      " 'Employee_Name': ['Frank Jackson', 'Jane Smith', 'Carol Martinez'],\n",
      " 'Plan_Name': ['Bronze', 'Silver', 'Bronze'],\n",
      " 'PolicyID': ['QR17171', 'CD67890', 'KL14141'],\n",
      " 'Cost': [50, 100, 50]}\n"
     ]
    }
   ],
   "source": [
    "print(f\"Template:\\n{template_dict}\")\n",
    "print(f\"A:\\n{a_dict}\")\n",
    "print(f\"B:\\n{b_dict}\")"
   ]
  },
  {
   "cell_type": "code",
   "execution_count": 5,
   "metadata": {},
   "outputs": [
    {
     "name": "stdout",
     "output_type": "stream",
     "text": [
      "Format:\n",
      "{'Input_Key1': {'match': 'Template_Key1', 'reason': 'reason for match'},\n",
      " 'Input_Key2': {'match': 'Template_Key2', 'reason': 'reason for match'}}\n"
     ]
    }
   ],
   "source": [
    "# Format of the output of the mapping prompt\n",
    "format_dict = {\n",
    "'Input_Key1': {'match': 'Template_Key1', 'reason': 'reason for match'},\n",
    "'Input_Key2': {'match': 'Template_Key2', 'reason': 'reason for match'}\n",
    "}\n",
    "format_dict = str(format_dict).replace('},', '},\\n')\n",
    "print(f\"Format:\\n{format_dict}\")"
   ]
  },
  {
   "cell_type": "code",
   "execution_count": 6,
   "metadata": {},
   "outputs": [],
   "source": [
    "#######\n",
    "# The prompt outputs the mapping between the input and the template. It also provdes a reason for the match and also why it could not find a match for a particular column\n",
    "#######\n",
    "from langchain.prompts import PromptTemplate\n",
    "from langchain.chains import LLMChain\n",
    "\n",
    "explain_features_prompt = \"\"\"You are an Insurance expert doing data entry. Given below are two python dictionaries containing data on insurance policies taken by employees. Both dicts have essentially the same information, but with different column names, different value formats, and duplicate, irrelevant or mislabeled columns. First, understand what kind of data each column has. Look at the content in each column. Your task is to match columns in Template to columns in Input by looking at the content and data in each column. The content in the matched columns have to be the same type of data. Dont match if they difference in format is completely different (except date columns).\n",
    "Dictionary Template:\n",
    "{template}\n",
    "\n",
    "Dictionary Input:\n",
    "{input}\n",
    "\n",
    "Provide the output in JSON format. Output JSON should have for each key of Input, the matching key in Template, if available and the reason for match. If no match, then print \"N/A\". In reason, give justification for why they match and any highlight differences, if any. Provide a detailed and in-depth explanantion. If there is no match, then also provide detailed explanation on why.\n",
    "\n",
    "Output format should be:\n",
    "{format}\n",
    "\n",
    "Output:\n",
    "\n",
    "\"\"\"\n",
    "\n",
    "mapping_template = PromptTemplate(input_variables=['template', 'input', 'format'], template=explain_features_prompt)\n",
    "mapping_chain = LLMChain(llm=llm, prompt=mapping_template)\n",
    "mapping_output = mapping_chain.run({'template':template_dict, 'input':b_dict, 'format': format_dict})"
   ]
  },
  {
   "cell_type": "code",
   "execution_count": 7,
   "metadata": {},
   "outputs": [
    {
     "name": "stdout",
     "output_type": "stream",
     "text": [
      "Output showing the mapping between the Input dictionary and the matching column in the Template\n",
      "{'PolicyDate': {'match': 'Date', 'reason': 'Both columns contain the same type of data, i.e. dates, and the format of the dates is the same in both columns.'}, \n",
      "'Name': {'match': 'N/A', 'reason': 'The content in the Name column of the Input dictionary is the last name of the employee, while the content in the EmployeeName column of the Template dictionary is the full name of the employee. Therefore, they cannot be matched.'}, \n",
      "'PlanType': {'match': 'N/A', 'reason': 'The content in the PlanType column of the Input dictionary is the first name of the employee, while the content in the EmployeeName column of the Template dictionary is the full name of the employee. Therefore, they cannot be matched.'}, \n",
      "'Policy_ID': {'match': 'Plan', 'reason': 'Both columns contain the same type of data, i.e. the type of insurance plan taken by the employee.'}, \n",
      "'PremiumAmount': {'match': 'PolicyNumber', 'reason': 'Both columns contain the same type of data, i.e. the policy number of the insurance plan taken by the employee.'}, \n",
      "'Hobby': {'match': 'N/A', 'reason': 'The content in the Hobby column of the Input dictionary is the hobby of the employee, while the content in the Template dictionary does not contain any information about the hobby of the employee. Therefore, they cannot be matched.'}, \n",
      "'MaritalStatus': {'match': 'N/A', 'reason': 'The content in the MaritalStatus column of the Input dictionary is the marital status of the employee, while the content in the Template dictionary does not contain any information about the marital status of the employee. Therefore, they cannot be matched.'}, \n",
      "'StartDate': {'match': 'Date', 'reason': 'Both columns contain the same type of data, i.e. dates, and the format of the dates is the same in both columns.'}, \n",
      "'Employee_Name': {'match': 'EmployeeName', 'reason': 'Both columns contain the same type of data, i.e. the full name of the employee.'}, \n",
      "'Plan_Name': {'match': 'Plan', 'reason': 'Both columns contain the same type of data, i.e. the type of insurance plan taken by the employee.'}, \n",
      "'PolicyID': {'match': 'PolicyNumber', 'reason': 'Both columns contain the same type of data, i.e. the policy number of the insurance plan taken by the employee.'}, \n",
      "'Cost': {'match': 'Premium', 'reason': 'Both columns contain the same type of data, i.e. the premium amount of the insurance plan taken by the employee.'}}\n"
     ]
    }
   ],
   "source": [
    "print(f\"Output showing the mapping between the Input dictionary and the matching column in the Template\\n{mapping_output}\")"
   ]
  },
  {
   "cell_type": "markdown",
   "metadata": {},
   "source": [
    "Next, we manually choose the mapping that we think is the best."
   ]
  },
  {
   "cell_type": "code",
   "execution_count": 10,
   "metadata": {},
   "outputs": [
    {
     "name": "stdout",
     "output_type": "stream",
     "text": [
      "Selected Mapping:\n",
      "{'PolicyDate': {'match': 'Date', 'reason': 'Both columns contain the same type of data, i.e. dates, and the format of the dates is the same in both columns.'},\n",
      " 'Employee_Name': {'match': 'EmployeeName', 'reason': 'Both columns contain the same type of data, i.e. the full name of the employee.'},\n",
      " 'Plan_Name': {'match': 'Plan', 'reason': 'Both columns contain the same type of data, i.e. the type of insurance plan taken by the employee.'},\n",
      " 'PolicyID': {'match': 'PolicyNumber', 'reason': 'Both columns contain the same type of data, i.e. the policy number of the insurance plan taken by the employee.'},\n",
      " 'Cost': {'match': 'Premium', 'reason': 'Both columns contain the same type of data, i.e. the premium amount of the insurance plan taken by the employee.'}}\n"
     ]
    }
   ],
   "source": [
    "selected_output = {'PolicyDate': {'match': 'Date', 'reason': 'Both columns contain the same type of data, i.e. dates, and the format of the dates is the same in both columns.'},\n",
    "'Employee_Name': {'match': 'EmployeeName', 'reason': 'Both columns contain the same type of data, i.e. the full name of the employee.'}, \n",
    "'Plan_Name': {'match': 'Plan', 'reason': 'Both columns contain the same type of data, i.e. the type of insurance plan taken by the employee.'}, \n",
    "'PolicyID': {'match': 'PolicyNumber', 'reason': 'Both columns contain the same type of data, i.e. the policy number of the insurance plan taken by the employee.'}, \n",
    "'Cost': {'match': 'Premium', 'reason': 'Both columns contain the same type of data, i.e. the premium amount of the insurance plan taken by the employee.'}}\n",
    "\n",
    "# Formatting the dictionary to be more readable for the LLM\n",
    "selected_output = str(selected_output).replace('},', '},\\n')\n",
    "print(f\"Selected Mapping:\\n{selected_output}\")\n"
   ]
  },
  {
   "cell_type": "code",
   "execution_count": 11,
   "metadata": {},
   "outputs": [],
   "source": [
    "#######\n",
    "# The prompt outputs the instructions to transform the input to the format and the column names provided in the template\n",
    "#######\n",
    "\n",
    "transform_code_prompt = \"\"\"You are an expert Python programmer with a lot of experience in handling datasets. Your task is to first take a look at two dictionaries:\n",
    "\n",
    "template_dict = {template}\n",
    "\n",
    "input_dict = {input}\n",
    "\n",
    "and identify the type of data contained in those dictionaries and the exact formats of the values. Then you need to take a look at another dictionary:\n",
    "\n",
    "mapping_dict = {mapping}\n",
    "\n",
    "which contains the mapping between the keys of both the dictionaries. The keys of the mapping_dict is the keys of the input_dict and the value of 'match' inside each key of the mapping_dict is the key of the template_dict, which closely matches the corresponding key of the input_dict in terms of the content. You need to go trough each of the mapping and then come up with a step by step process to convert the values of one the keys of the input_dict to the format of the values of the keys of the template_dict.\n",
    "\n",
    "\"\"\"\n",
    "\n",
    "transform_code_template = PromptTemplate(input_variables=['template', 'input', 'mapping'], template=transform_code_prompt)\n",
    "transform_code_chain = LLMChain(llm=llm, prompt=transform_code_template, output_key=\"instructions\")"
   ]
  },
  {
   "cell_type": "code",
   "execution_count": 12,
   "metadata": {},
   "outputs": [],
   "source": [
    "#######\n",
    "# This prompt takes in the instructions provided from the previous prompt, the input and template and outputs the Python code to achieve the transformation\n",
    "#######\n",
    "\n",
    "transform_code_write_prompt = \"\"\"You are an expert Python programmer with a lot of experience in handling datasets. Your task is to first take a look at two dictionaries:\n",
    "\n",
    "template_dict = {template}\n",
    "\n",
    "input_dict = {input}\n",
    "\n",
    "and identify the type of data contained in those dictionaries and the exact formats of the values. Then you need to take a look at the steps outlined below and write a Python code by following the instructions mentioned:\n",
    "\n",
    "Instructions:\n",
    "\n",
    "{instructions}\n",
    "\n",
    "Python Script:\n",
    "\"\"\"\n",
    "\n",
    "transform_code_write_template = PromptTemplate(input_variables=['template', 'input', 'instructions'], template=transform_code_write_prompt)\n",
    "transform_code_write_chain = LLMChain(llm=llm, prompt=transform_code_write_template, output_key=\"code\")"
   ]
  },
  {
   "cell_type": "code",
   "execution_count": 14,
   "metadata": {},
   "outputs": [],
   "source": [
    "# This is the overall chain where we run these two chains in sequence.\n",
    "from langchain.chains import SequentialChain\n",
    "overall_transformation_chain = SequentialChain(chains=[transform_code_chain, transform_code_write_chain], \n",
    "                                               input_variables=[\"template\", \"input\", \"mapping\"], output_variables=[\"instructions\", \"code\"], verbose=True)"
   ]
  },
  {
   "cell_type": "code",
   "execution_count": 29,
   "metadata": {},
   "outputs": [
    {
     "name": "stdout",
     "output_type": "stream",
     "text": [
      "\n",
      "\n",
      "\u001b[1m> Entering new SequentialChain chain...\u001b[0m\n",
      "\n",
      "\u001b[1m> Finished chain.\u001b[0m\n"
     ]
    }
   ],
   "source": [
    "final_output = overall_transformation_chain({'template':template_dict, 'input':b_dict, 'mapping':selected_output})"
   ]
  },
  {
   "cell_type": "code",
   "execution_count": 21,
   "metadata": {},
   "outputs": [
    {
     "name": "stdout",
     "output_type": "stream",
     "text": [
      "\n",
      "# Extract the data from the input_dict\n",
      "policy_date = input_dict['PolicyDate']\n",
      "name = input_dict['Employee_Name']\n",
      "plan_name = input_dict['Plan_Name']\n",
      "policy_id = input_dict['PolicyID']\n",
      "cost = input_dict['Cost']\n",
      "\n",
      "# Convert the date from the format of 'YYYY-MM-DD' to the format of 'DD-MM-YYYY'\n",
      "converted_date = [date.split('-')[2] + '-' + date.split('-')[1] + '-' + date.split('-')[0] for date in policy_date]\n",
      "\n",
      "# Split the name into the first name and the last name\n",
      "split_name = [name.split(' ') for name in name]\n",
      "\n",
      "# Store the data in the template_dict\n",
      "template_dict['Date'] = converted_date\n",
      "template_dict['EmployeeName'] = split_name\n",
      "template_dict['Plan'] = plan_name\n",
      "template_dict['PolicyNumber'] = policy_id\n",
      "template_dict['Premium'] = cost\n"
     ]
    }
   ],
   "source": [
    "print(final_output['code'])"
   ]
  },
  {
   "cell_type": "code",
   "execution_count": 3,
   "metadata": {},
   "outputs": [],
   "source": [
    "input_dict = eval(b_orig_dict)\n",
    "template_dict = eval(template_dict)"
   ]
  },
  {
   "cell_type": "markdown",
   "metadata": {},
   "source": [
    "Next, we look at the code and make some edits to it. For eg: it looks like the code is splitting the name and saving it as a list. This is not required at all. So we comment it and directly use the name as it is."
   ]
  },
  {
   "cell_type": "code",
   "execution_count": 4,
   "metadata": {},
   "outputs": [],
   "source": [
    "# Extract the data from the input_dict\n",
    "policy_date = input_dict['PolicyDate']\n",
    "name = input_dict['Employee_Name']\n",
    "plan_name = input_dict['Plan_Name']\n",
    "policy_id = input_dict['PolicyID']\n",
    "cost = input_dict['Cost']\n",
    "\n",
    "# Convert the date from the format of 'YYYY-MM-DD' to the format of 'DD-MM-YYYY'\n",
    "converted_date = [date.split('-')[2] + '-' + date.split('-')[1] + '-' + date.split('-')[0] for date in policy_date]\n",
    "\n",
    "# # Split the name into the first name and the last name\n",
    "# split_name = [name.split(' ') for name in name]\n",
    "\n",
    "# Store the data in the template_dict\n",
    "template_dict['Date'] = converted_date\n",
    "template_dict['EmployeeName'] = name\n",
    "template_dict['Plan'] = plan_name\n",
    "template_dict['PolicyNumber'] = policy_id\n",
    "template_dict['Premium'] = cost\n",
    "\n",
    "cleaned_b_orig_dict = template_dict"
   ]
  },
  {
   "cell_type": "code",
   "execution_count": 5,
   "metadata": {},
   "outputs": [
    {
     "data": {
      "text/html": [
       "<div>\n",
       "<style scoped>\n",
       "    .dataframe tbody tr th:only-of-type {\n",
       "        vertical-align: middle;\n",
       "    }\n",
       "\n",
       "    .dataframe tbody tr th {\n",
       "        vertical-align: top;\n",
       "    }\n",
       "\n",
       "    .dataframe thead th {\n",
       "        text-align: right;\n",
       "    }\n",
       "</style>\n",
       "<table border=\"1\" class=\"dataframe\">\n",
       "  <thead>\n",
       "    <tr style=\"text-align: right;\">\n",
       "      <th></th>\n",
       "      <th>Date</th>\n",
       "      <th>EmployeeName</th>\n",
       "      <th>Plan</th>\n",
       "      <th>PolicyNumber</th>\n",
       "      <th>Premium</th>\n",
       "    </tr>\n",
       "  </thead>\n",
       "  <tbody>\n",
       "    <tr>\n",
       "      <th>0</th>\n",
       "      <td>01-05-2023</td>\n",
       "      <td>John Doe</td>\n",
       "      <td>Gold</td>\n",
       "      <td>AB12345</td>\n",
       "      <td>150</td>\n",
       "    </tr>\n",
       "    <tr>\n",
       "      <th>1</th>\n",
       "      <td>02-05-2023</td>\n",
       "      <td>Jane Smith</td>\n",
       "      <td>Silver</td>\n",
       "      <td>CD67890</td>\n",
       "      <td>100</td>\n",
       "    </tr>\n",
       "    <tr>\n",
       "      <th>2</th>\n",
       "      <td>03-05-2023</td>\n",
       "      <td>Michael Brown</td>\n",
       "      <td>Bronze</td>\n",
       "      <td>EF10111</td>\n",
       "      <td>50</td>\n",
       "    </tr>\n",
       "    <tr>\n",
       "      <th>3</th>\n",
       "      <td>04-05-2023</td>\n",
       "      <td>Alice Johnson</td>\n",
       "      <td>Gold</td>\n",
       "      <td>GH12121</td>\n",
       "      <td>150</td>\n",
       "    </tr>\n",
       "    <tr>\n",
       "      <th>4</th>\n",
       "      <td>05-05-2023</td>\n",
       "      <td>Bob Wilson</td>\n",
       "      <td>Silver</td>\n",
       "      <td>IJ13131</td>\n",
       "      <td>100</td>\n",
       "    </tr>\n",
       "    <tr>\n",
       "      <th>5</th>\n",
       "      <td>06-05-2023</td>\n",
       "      <td>Carol Martinez</td>\n",
       "      <td>Bronze</td>\n",
       "      <td>KL14141</td>\n",
       "      <td>50</td>\n",
       "    </tr>\n",
       "    <tr>\n",
       "      <th>6</th>\n",
       "      <td>07-05-2023</td>\n",
       "      <td>David Anderson</td>\n",
       "      <td>Gold</td>\n",
       "      <td>MN15151</td>\n",
       "      <td>150</td>\n",
       "    </tr>\n",
       "    <tr>\n",
       "      <th>7</th>\n",
       "      <td>08-05-2023</td>\n",
       "      <td>Eva Thomas</td>\n",
       "      <td>Silver</td>\n",
       "      <td>OP16161</td>\n",
       "      <td>100</td>\n",
       "    </tr>\n",
       "    <tr>\n",
       "      <th>8</th>\n",
       "      <td>09-05-2023</td>\n",
       "      <td>Frank Jackson</td>\n",
       "      <td>Bronze</td>\n",
       "      <td>QR17171</td>\n",
       "      <td>50</td>\n",
       "    </tr>\n",
       "    <tr>\n",
       "      <th>9</th>\n",
       "      <td>10-05-2023</td>\n",
       "      <td>Grace White</td>\n",
       "      <td>Gold</td>\n",
       "      <td>ST18181</td>\n",
       "      <td>150</td>\n",
       "    </tr>\n",
       "  </tbody>\n",
       "</table>\n",
       "</div>"
      ],
      "text/plain": [
       "         Date    EmployeeName    Plan PolicyNumber  Premium\n",
       "0  01-05-2023        John Doe    Gold      AB12345      150\n",
       "1  02-05-2023      Jane Smith  Silver      CD67890      100\n",
       "2  03-05-2023   Michael Brown  Bronze      EF10111       50\n",
       "3  04-05-2023   Alice Johnson    Gold      GH12121      150\n",
       "4  05-05-2023      Bob Wilson  Silver      IJ13131      100\n",
       "5  06-05-2023  Carol Martinez  Bronze      KL14141       50\n",
       "6  07-05-2023  David Anderson    Gold      MN15151      150\n",
       "7  08-05-2023      Eva Thomas  Silver      OP16161      100\n",
       "8  09-05-2023   Frank Jackson  Bronze      QR17171       50\n",
       "9  10-05-2023     Grace White    Gold      ST18181      150"
      ]
     },
     "execution_count": 5,
     "metadata": {},
     "output_type": "execute_result"
    }
   ],
   "source": [
    "pd.DataFrame.from_dict(cleaned_b_orig_dict)"
   ]
  },
  {
   "cell_type": "markdown",
   "metadata": {},
   "source": [
    "### Edge Cases"
   ]
  },
  {
   "cell_type": "markdown",
   "metadata": {},
   "source": [
    "1. This approach only accounts for different column names, different value formats, and duplicate or irrelevant columns. It does not account for selecting columns based on the cleanest data with less missing values, etc. Additional improvements would be to also include missing value information, spelling errors, etc as meta data of the columns\n",
    "2. This approach also assumes that the content of information in the template and the input are the same. For eg. Plan in template is Bronze, Silver, etc, then Plan in input should also be something similar or atleast contain the words Bronze, Silver, etc. But what if we have a scenario where the names of the plan changed to Red, Blue and Green?\n",
    "In this case, our approach would fail. Then we would need to modify our prompt to pay more attention to the name of the column as well and show that as an option in the mapping stage and leave it to the user to select. For now, since that is not a requirement, I went a little more aggresive and had the LLM make the decision itself by looking  at the content and deciding as it reduces the amount of manual verificaton.\n",
    "3. This approach would also probably not work (NOT Tested) in the case where there is a many-to-one mapping. For eg: Name is split into First name and Last name. It could work if the in the mapping stage, both column get matched to the EmployeeName in Template, then that could be enough information for the transformation prompt to understand it needs to merge the two columns together."
   ]
  }
 ],
 "metadata": {
  "kernelspec": {
   "display_name": "nlp",
   "language": "python",
   "name": "python3"
  },
  "language_info": {
   "codemirror_mode": {
    "name": "ipython",
    "version": 3
   },
   "file_extension": ".py",
   "mimetype": "text/x-python",
   "name": "python",
   "nbconvert_exporter": "python",
   "pygments_lexer": "ipython3",
   "version": "3.11.4"
  },
  "orig_nbformat": 4
 },
 "nbformat": 4,
 "nbformat_minor": 2
}
